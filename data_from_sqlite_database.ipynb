{
 "cells": [
  {
   "cell_type": "markdown",
   "metadata": {},
   "source": [
    "# Using data from a sqlite database to draw a box or whisker plot\n",
    "\n",
    "\n",
    "## SQLite iris database\n",
    "\n",
    "We used sqlite in COMP0035 so the following uses the sqlite3 Python library. If you used a different database, e.g. MySQL, then you will need to use an appropriate library for that database.\n",
    "\n",
    "This example uses the iris database which you will often see used in Data Science and Machine Learning tutorials.\n",
    "\n",
    "The database has 1 table as follows:\n",
    "\n",
    "table name: iris  \n",
    "columns (name, data type):  \n",
    "    index\tINT   \n",
    "    SepalLength\tFLOAT  \n",
    "    SepalWidth\tFLOAT  \n",
    "    PetalLength\tFLOAT  \n",
    "    PetalWidth\tFLOAT  \n",
    "    Species\tTEXT  \n",
    "\n",
    "## Getting started\n",
    "Run the next cell to import the libraries."
   ]
  },
  {
   "cell_type": "code",
   "execution_count": 2,
   "metadata": {},
   "outputs": [],
   "source": [
    "import pandas as pd\n",
    "import matplotlib as mpl\n",
    "import sqlite3\n",
    "\n",
    "%matplotlib inline"
   ]
  },
  {
   "cell_type": "markdown",
   "metadata": {},
   "source": [
    "## Querying the database\n",
    "### Using sqlite3 to query the database"
   ]
  },
  {
   "cell_type": "code",
   "execution_count": 3,
   "metadata": {},
   "outputs": [
    {
     "data": {
      "text/plain": [
       "[(0, 5.1, 3.5, 1.4, 0.2, 'setosa'),\n",
       " (1, 4.9, 3.0, 1.4, 0.2, 'setosa'),\n",
       " (2, 4.7, 3.2, 1.3, 0.2, 'setosa'),\n",
       " (3, 4.6, 3.1, 1.5, 0.2, 'setosa'),\n",
       " (4, 5.0, 3.6, 1.4, 0.2, 'setosa')]"
      ]
     },
     "execution_count": 3,
     "metadata": {},
     "output_type": "execute_result"
    }
   ],
   "source": [
    "# Create a connection object to the database\n",
    "conn = sqlite3.connect('iris.sqlite')\n",
    "\n",
    "# Create a cursor object, this allows you to execute SQL queries on the database\n",
    "cur = conn.cursor()\n",
    "\n",
    "# Use the execute method of the cursor object to run a query. The following finds the first 5 rows in the iris table.\n",
    "cur.execute('SELECT * FROM iris LIMIT 5;')\n",
    "\n",
    "# We then execute a second command to get the results and assign them to a variable\n",
    "results = cur.fetchall()\n",
    "\n",
    "# Print the results\n",
    "results"
   ]
  },
  {
   "cell_type": "markdown",
   "metadata": {},
   "source": [
    "### Using sqlite3 and pandas to query the database\n",
    "In the examples to date we have used pandas dataframes. We could create a dataframe from the data returned from the cell above however you would then need to manually add column names. Instead once we create the database connection, we can then use a pandas method to read the data in a similar was as we did when reading .csv and .xlsx files."
   ]
  },
  {
   "cell_type": "code",
   "execution_count": 4,
   "metadata": {},
   "outputs": [
    {
     "data": {
      "text/html": [
       "<div>\n",
       "<style scoped>\n",
       "    .dataframe tbody tr th:only-of-type {\n",
       "        vertical-align: middle;\n",
       "    }\n",
       "\n",
       "    .dataframe tbody tr th {\n",
       "        vertical-align: top;\n",
       "    }\n",
       "\n",
       "    .dataframe thead th {\n",
       "        text-align: right;\n",
       "    }\n",
       "</style>\n",
       "<table border=\"1\" class=\"dataframe\">\n",
       "  <thead>\n",
       "    <tr style=\"text-align: right;\">\n",
       "      <th></th>\n",
       "      <th>SepalLength</th>\n",
       "      <th>SepalWidth</th>\n",
       "      <th>PetalLength</th>\n",
       "      <th>PetalWidth</th>\n",
       "      <th>Species</th>\n",
       "    </tr>\n",
       "    <tr>\n",
       "      <th>index</th>\n",
       "      <th></th>\n",
       "      <th></th>\n",
       "      <th></th>\n",
       "      <th></th>\n",
       "      <th></th>\n",
       "    </tr>\n",
       "  </thead>\n",
       "  <tbody>\n",
       "    <tr>\n",
       "      <th>0</th>\n",
       "      <td>5.1</td>\n",
       "      <td>3.5</td>\n",
       "      <td>1.4</td>\n",
       "      <td>0.2</td>\n",
       "      <td>setosa</td>\n",
       "    </tr>\n",
       "    <tr>\n",
       "      <th>1</th>\n",
       "      <td>4.9</td>\n",
       "      <td>3.0</td>\n",
       "      <td>1.4</td>\n",
       "      <td>0.2</td>\n",
       "      <td>setosa</td>\n",
       "    </tr>\n",
       "    <tr>\n",
       "      <th>2</th>\n",
       "      <td>4.7</td>\n",
       "      <td>3.2</td>\n",
       "      <td>1.3</td>\n",
       "      <td>0.2</td>\n",
       "      <td>setosa</td>\n",
       "    </tr>\n",
       "    <tr>\n",
       "      <th>3</th>\n",
       "      <td>4.6</td>\n",
       "      <td>3.1</td>\n",
       "      <td>1.5</td>\n",
       "      <td>0.2</td>\n",
       "      <td>setosa</td>\n",
       "    </tr>\n",
       "    <tr>\n",
       "      <th>4</th>\n",
       "      <td>5.0</td>\n",
       "      <td>3.6</td>\n",
       "      <td>1.4</td>\n",
       "      <td>0.2</td>\n",
       "      <td>setosa</td>\n",
       "    </tr>\n",
       "  </tbody>\n",
       "</table>\n",
       "</div>"
      ],
      "text/plain": [
       "       SepalLength  SepalWidth  PetalLength  PetalWidth Species\n",
       "index                                                          \n",
       "0              5.1         3.5          1.4         0.2  setosa\n",
       "1              4.9         3.0          1.4         0.2  setosa\n",
       "2              4.7         3.2          1.3         0.2  setosa\n",
       "3              4.6         3.1          1.5         0.2  setosa\n",
       "4              5.0         3.6          1.4         0.2  setosa"
      ]
     },
     "execution_count": 4,
     "metadata": {},
     "output_type": "execute_result"
    }
   ],
   "source": [
    "# Create a connection object to the database\n",
    "conn = sqlite3.connect('iris.sqlite')\n",
    "\n",
    "# Create a dataframe with the contents of the iris table\n",
    "df = pd.read_sql('SELECT * FROM iris;', conn, index_col='index')\n",
    "\n",
    "# Print the first 5 rows\n",
    "df.head(5)"
   ]
  },
  {
   "cell_type": "markdown",
   "metadata": {},
   "source": [
    "### Using SQLAlchemy and pandas to query the database\n",
    "You won't need to use this for the first coursework, however in the second half of the term when we start to look at creating Flask web apps we will be using an object relational mapper (ORM) called SQLAlchemy.\n",
    "\n",
    "The syntax for the same query using SQLAlchemy:"
   ]
  },
  {
   "cell_type": "code",
   "execution_count": 14,
   "metadata": {},
   "outputs": [
    {
     "data": {
      "text/html": [
       "<div>\n",
       "<style scoped>\n",
       "    .dataframe tbody tr th:only-of-type {\n",
       "        vertical-align: middle;\n",
       "    }\n",
       "\n",
       "    .dataframe tbody tr th {\n",
       "        vertical-align: top;\n",
       "    }\n",
       "\n",
       "    .dataframe thead th {\n",
       "        text-align: right;\n",
       "    }\n",
       "</style>\n",
       "<table border=\"1\" class=\"dataframe\">\n",
       "  <thead>\n",
       "    <tr style=\"text-align: right;\">\n",
       "      <th></th>\n",
       "      <th>SepalLength</th>\n",
       "      <th>SepalWidth</th>\n",
       "      <th>PetalLength</th>\n",
       "      <th>PetalWidth</th>\n",
       "      <th>Species</th>\n",
       "    </tr>\n",
       "    <tr>\n",
       "      <th>index</th>\n",
       "      <th></th>\n",
       "      <th></th>\n",
       "      <th></th>\n",
       "      <th></th>\n",
       "      <th></th>\n",
       "    </tr>\n",
       "  </thead>\n",
       "  <tbody>\n",
       "    <tr>\n",
       "      <th>0</th>\n",
       "      <td>5.1</td>\n",
       "      <td>3.5</td>\n",
       "      <td>1.4</td>\n",
       "      <td>0.2</td>\n",
       "      <td>setosa</td>\n",
       "    </tr>\n",
       "    <tr>\n",
       "      <th>1</th>\n",
       "      <td>4.9</td>\n",
       "      <td>3.0</td>\n",
       "      <td>1.4</td>\n",
       "      <td>0.2</td>\n",
       "      <td>setosa</td>\n",
       "    </tr>\n",
       "    <tr>\n",
       "      <th>2</th>\n",
       "      <td>4.7</td>\n",
       "      <td>3.2</td>\n",
       "      <td>1.3</td>\n",
       "      <td>0.2</td>\n",
       "      <td>setosa</td>\n",
       "    </tr>\n",
       "    <tr>\n",
       "      <th>3</th>\n",
       "      <td>4.6</td>\n",
       "      <td>3.1</td>\n",
       "      <td>1.5</td>\n",
       "      <td>0.2</td>\n",
       "      <td>setosa</td>\n",
       "    </tr>\n",
       "    <tr>\n",
       "      <th>4</th>\n",
       "      <td>5.0</td>\n",
       "      <td>3.6</td>\n",
       "      <td>1.4</td>\n",
       "      <td>0.2</td>\n",
       "      <td>setosa</td>\n",
       "    </tr>\n",
       "  </tbody>\n",
       "</table>\n",
       "</div>"
      ],
      "text/plain": [
       "       SepalLength  SepalWidth  PetalLength  PetalWidth Species\n",
       "index                                                          \n",
       "0              5.1         3.5          1.4         0.2  setosa\n",
       "1              4.9         3.0          1.4         0.2  setosa\n",
       "2              4.7         3.2          1.3         0.2  setosa\n",
       "3              4.6         3.1          1.5         0.2  setosa\n",
       "4              5.0         3.6          1.4         0.2  setosa"
      ]
     },
     "execution_count": 14,
     "metadata": {},
     "output_type": "execute_result"
    }
   ],
   "source": [
    "from sqlalchemy import create_engine\n",
    "\n",
    "engine = create_engine('sqlite:///iris.sqlite')\n",
    "\n",
    "connection = engine.connect()\n",
    "\n",
    "# If we had defined our database using SQLAlchemy we could use the following: \n",
    "# df = pd.read_sql_table('iris', connection)\n",
    "# However, read_sql_table won't work in the conext of this notebook. Instead use read_sql or read_sql_query:\n",
    "query = 'SELECT * FROM iris'\n",
    "df = pd.read_sql(query, connection, index_col='index')\n",
    "\n",
    "# Close the database connection\n",
    "connection.close()\n",
    "\n",
    "df.head()"
   ]
  },
  {
   "cell_type": "code",
   "execution_count": 21,
   "metadata": {},
   "outputs": [],
   "source": [
    "# Read the to_sql method documentation to understand that parameters that can be used\n",
    "df.to_sql?"
   ]
  },
  {
   "cell_type": "markdown",
   "metadata": {},
   "source": [
    "## Draw a box (or whisker) plot for the iris data\n",
    "\n",
    "Read the [data visualisation catalogue entry for box and whisker plot](https://datavizcatalogue.com/methods/box_plot.html).\n",
    "\n",
    "Box plots are useful for:\n",
    "- Understanding the spread of the data.\n",
    "- Spotting outliers.\n",
    "- Comparing distributions."
   ]
  },
  {
   "cell_type": "code",
   "execution_count": 64,
   "metadata": {},
   "outputs": [
    {
     "data": {
      "image/png": "[encoded data removed]",
      "text/plain": [
       "<Figure size 864x504 with 1 Axes>"
      ]
     },
     "metadata": {
      "needs_background": "light"
     },
     "output_type": "display_data"
    }
   ],
   "source": [
    "import matplotlib.pyplot as plt\n",
    "import numpy as np\n",
    "\n",
    "%matplotlib inline\n",
    "\n",
    "conn = sqlite3.connect('iris.sqlite')\n",
    "\n",
    "df = pd.read_sql('SELECT * FROM iris;', conn, index_col='index')\n",
    "\n",
    "# Prepare petal length by species datasets\n",
    "setosa_petal_length = df[df['Species'] == 'setosa']['PetalLength']\n",
    "versicolor_petal_length = df[df['Species'] == 'versicolor']['PetalLength']\n",
    "virginica_petal_length = df[df['Species'] == 'virginica']['PetalLength']\n",
    "\n",
    "# Visualize petal length distribution for all species\n",
    "fig, ax = plt.subplots(figsize=(12, 7))\n",
    "\n",
    "# Remove top and right border\n",
    "ax.spines['top'].set_visible(False)\n",
    "ax.spines['right'].set_visible(False)\n",
    "ax.spines['left'].set_visible(False)\n",
    "\n",
    "# Remove y-axis tick marks\n",
    "ax.yaxis.set_ticks_position('none')\n",
    "\n",
    "# Add major gridlines in the y-axis\n",
    "ax.grid(color='grey', axis='y', linestyle='-', linewidth=0.25, alpha=0.5)\n",
    "\n",
    "# Set plot title\n",
    "ax.set_title('Distribution of petal length by species')\n",
    "\n",
    "# Set species names as labels for the boxplot\n",
    "dataset = [setosa_petal_length, versicolor_petal_length, virginica_petal_length]\n",
    "labels = df['Species'].unique()\n",
    "ax.boxplot(dataset, labels=labels)\n",
    "plt.show()"
   ]
  },
  {
   "cell_type": "markdown",
   "source": [
    "Insights from this plot:\n",
    "- Iris Setosa has a much smaller petal length than Iris Versicolor and Virginica. It ranges from approximately 1 to 2 centimeters.\n",
    "- The range of petal length of Iris Virginica is bigger than both the ranges of values for Iris Setosa and Versicolor. We can see that from how tall the box is for Iris Virginica compared to the other two.\n",
    "- Both Iris Setosa and Veriscolor have outliers."
   ],
   "metadata": {
    "collapsed": false
   }
  },
  {
   "cell_type": "markdown",
   "metadata": {},
   "source": [
    "## Save from pandas DataFrame to sqlite database\n",
    "For the coursework you may need to save data to your database. You can save data from a dataframe to a database.\n",
    "\n",
    "In the following example we will read from a csv file to a dataframe, and then save from a dataframe to a sqlite database."
   ]
  },
  {
   "cell_type": "markdown",
   "metadata": {},
   "source": [
    "## Save from pandas DataFrame to sqlite database\n",
    "For the coursework you may need to save data to your database. You can save data from a dataframe to a database.\n",
    "\n",
    "In the following example we will read from a csv file to a dataframe, and then save from a dataframe to a sqlite database."
   ]
  },
  {
   "cell_type": "code",
   "execution_count": 19,
   "metadata": {},
   "outputs": [
    {
     "data": {
      "text/html": [
       "<div>\n",
       "<style scoped>\n",
       "    .dataframe tbody tr th:only-of-type {\n",
       "        vertical-align: middle;\n",
       "    }\n",
       "\n",
       "    .dataframe tbody tr th {\n",
       "        vertical-align: top;\n",
       "    }\n",
       "\n",
       "    .dataframe thead th {\n",
       "        text-align: right;\n",
       "    }\n",
       "</style>\n",
       "<table border=\"1\" class=\"dataframe\">\n",
       "  <thead>\n",
       "    <tr style=\"text-align: right;\">\n",
       "      <th></th>\n",
       "      <th>country</th>\n",
       "      <th>1995</th>\n",
       "      <th>1996</th>\n",
       "      <th>1997</th>\n",
       "      <th>1998</th>\n",
       "      <th>1999</th>\n",
       "      <th>2000</th>\n",
       "      <th>2001</th>\n",
       "      <th>2002</th>\n",
       "      <th>2003</th>\n",
       "      <th>2004</th>\n",
       "      <th>2005</th>\n",
       "      <th>2006</th>\n",
       "      <th>2007</th>\n",
       "    </tr>\n",
       "  </thead>\n",
       "  <tbody>\n",
       "    <tr>\n",
       "      <th>0</th>\n",
       "      <td>Algeria</td>\n",
       "      <td>NaN</td>\n",
       "      <td>None</td>\n",
       "      <td>None</td>\n",
       "      <td>None</td>\n",
       "      <td>None</td>\n",
       "      <td>None</td>\n",
       "      <td>None</td>\n",
       "      <td>None</td>\n",
       "      <td>NaN</td>\n",
       "      <td>None</td>\n",
       "      <td>None</td>\n",
       "      <td>None</td>\n",
       "      <td>387</td>\n",
       "    </tr>\n",
       "    <tr>\n",
       "      <th>1</th>\n",
       "      <td>Armenia</td>\n",
       "      <td>NaN</td>\n",
       "      <td>None</td>\n",
       "      <td>None</td>\n",
       "      <td>None</td>\n",
       "      <td>None</td>\n",
       "      <td>None</td>\n",
       "      <td>None</td>\n",
       "      <td>None</td>\n",
       "      <td>478.0</td>\n",
       "      <td>None</td>\n",
       "      <td>None</td>\n",
       "      <td>None</td>\n",
       "      <td>499</td>\n",
       "    </tr>\n",
       "    <tr>\n",
       "      <th>2</th>\n",
       "      <td>Australia</td>\n",
       "      <td>509.0</td>\n",
       "      <td>None</td>\n",
       "      <td>None</td>\n",
       "      <td>None</td>\n",
       "      <td>None</td>\n",
       "      <td>None</td>\n",
       "      <td>None</td>\n",
       "      <td>None</td>\n",
       "      <td>505.0</td>\n",
       "      <td>None</td>\n",
       "      <td>None</td>\n",
       "      <td>None</td>\n",
       "      <td>496</td>\n",
       "    </tr>\n",
       "  </tbody>\n",
       "</table>\n",
       "</div>"
      ],
      "text/plain": [
       "     country   1995  1996  1997  1998  1999  2000  2001  2002   2003  2004  \\\n",
       "0    Algeria    NaN  None  None  None  None  None  None  None    NaN  None   \n",
       "1    Armenia    NaN  None  None  None  None  None  None  None  478.0  None   \n",
       "2  Australia  509.0  None  None  None  None  None  None  None  505.0  None   \n",
       "\n",
       "   2005  2006  2007  \n",
       "0  None  None   387  \n",
       "1  None  None   499  \n",
       "2  None  None   496  "
      ]
     },
     "execution_count": 19,
     "metadata": {},
     "output_type": "execute_result"
    }
   ],
   "source": [
    "# Create a connection object to the database, sqlite by default creates a database file if one does not exist\n",
    "conn = sqlite3.connect('achievement.sqlite')\n",
    "\n",
    "# Create a data frame from the data in the math achievement csv file\n",
    "df = pd.read_csv('math_achievement_8th_grade.csv')\n",
    "\n",
    "# Save the data to a table called achievement in the database\n",
    "df.to_sql('achievement', conn, index=False)\n",
    "\n",
    "# Query the achievement database for all countries starting with A just to demonstrate that it was created\n",
    "query = \"SELECT * FROM achievement WHERE country LIKE 'A%'\"\n",
    "df = pd.read_sql(query, conn)\n",
    "df"
   ]
  }
 ],
 "metadata": {
  "kernelspec": {
   "display_name": "Python 3",
   "language": "python",
   "name": "python3"
  },
  "language_info": {
   "codemirror_mode": {
    "name": "ipython",
    "version": 3
   },
   "file_extension": ".py",
   "mimetype": "text/x-python",
   "name": "python",
   "nbconvert_exporter": "python",
   "pygments_lexer": "ipython3",
   "version": "3.7.3"
  },
  "pycharm": {
   "stem_cell": {
    "cell_type": "raw",
    "source": [],
    "metadata": {
     "collapsed": false
    }
   }
  }
 },
 "nbformat": 4,
 "nbformat_minor": 4
}